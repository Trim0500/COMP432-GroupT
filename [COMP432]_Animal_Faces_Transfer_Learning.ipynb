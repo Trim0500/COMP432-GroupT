{
 "cells": [
  {
   "cell_type": "markdown",
   "metadata": {},
   "source": [
    "# Animal Faces Transfer Learning"
   ]
  },
  {
   "cell_type": "markdown",
   "metadata": {},
   "source": [
    "### This notebook contains the code to carry out the analysis of the transfer learning capacilities of the pre-trained model from task 1 and the ImageNet pre-trained model.\n",
    "### First, the pre-trained model from task 1 will be loaded to get the CNN encoder to extract features to be passed along to a Logistic Regression model for classification. An analysis of the performance of the classifier will be made with respect to the features extracted.\n",
    "### Then the same procedure will be done but for a ResNet model with ImageNet pre-trained weights."
   ]
  },
  {
   "cell_type": "markdown",
   "metadata": {},
   "source": [
    "#### Colorectal Cancer Pre-trained Model"
   ]
  },
  {
   "cell_type": "code",
   "execution_count": null,
   "metadata": {},
   "outputs": [],
   "source": []
  },
  {
   "cell_type": "markdown",
   "metadata": {},
   "source": [
    "#### ImageNet Pre-trained Model"
   ]
  },
  {
   "cell_type": "code",
   "execution_count": 1,
   "metadata": {},
   "outputs": [],
   "source": [
    "import os\n",
    "import torch\n",
    "import sklearn.metrics\n",
    "import matplotlib.pyplot as plt\n",
    "from numpy import unique\n",
    "from torch.utils import data\n",
    "from torch.nn import Flatten\n",
    "from torchvision import transforms\n",
    "from torchvision.datasets import ImageFolder\n",
    "from torchvision.models import resnet50\n",
    "from torchvision.models import ResNet50_Weights\n",
    "from torchvision.models.feature_extraction import get_graph_node_names\n",
    "from torchvision.models.feature_extraction import create_feature_extractor\n",
    "from sklearn.linear_model import LogisticRegression\n",
    "\n",
    "def load_data(_data_dir=\"Datasets/Corolectal Cancer/\"):\n",
    "    transform = transforms.Compose([\n",
    "        transforms.Resize((224, 224)),  # ResNet\n",
    "        transforms.RandomHorizontalFlip(),  # Data augmentation\n",
    "        transforms.ToTensor(),  \n",
    "        transforms.Normalize([0.485, 0.456, 0.406], [0.229, 0.224, 0.225])  # ImageNet Normalization\n",
    "    ])\n",
    "\n",
    "    if not os.path.exists(_data_dir):\n",
    "        raise FileNotFoundError(f\"Dataset directory '{_data_dir}' does not exist.\")\n",
    "\n",
    "    full_dataset = ImageFolder(root=_data_dir, transform=transform)\n",
    "\n",
    "    train_size = int(0.8 * len(full_dataset))\n",
    "    test_size = len(full_dataset) - train_size\n",
    "    train_dataset, test_dataset = data.random_split(full_dataset, [train_size, test_size])\n",
    "\n",
    "    return train_dataset, test_dataset\n",
    "\n",
    "\n",
    "device = \"cuda:0\""
   ]
  },
  {
   "cell_type": "markdown",
   "metadata": {},
   "source": [
    "- Get the model from pytorch with a ImageNet preset"
   ]
  },
  {
   "cell_type": "code",
   "execution_count": 2,
   "metadata": {},
   "outputs": [],
   "source": [
    "imagenet_model = resnet50(weights=ResNet50_Weights.DEFAULT)\n"
   ]
  },
  {
   "cell_type": "markdown",
   "metadata": {},
   "source": [
    "- Remove the classification head"
   ]
  },
  {
   "cell_type": "code",
   "execution_count": 3,
   "metadata": {},
   "outputs": [],
   "source": [
    "# uncomment to see list of layers except fc\n",
    "# train_nodes, eval_nodes = get_graph_node_names(imagenet_model)\n",
    "# print(train_nodes[:-1])\n",
    "\n",
    "return_nodes = {\n",
    "    'layer1': 'layer1',\n",
    "    'layer2': 'layer2',\n",
    "    'layer3': 'layer3',\n",
    "    'layer4': 'layer4',\n",
    "    'avgpool': 'avgpool'\n",
    "}\n",
    "\n",
    "# Note: this created model does not contain the flatten layer and so the output needs to have that applied first before going to the classifier\n",
    "imagenet_model = create_feature_extractor(imagenet_model, return_nodes=return_nodes)\n"
   ]
  },
  {
   "cell_type": "markdown",
   "metadata": {},
   "source": [
    "- Load the dataset and preprocess it"
   ]
  },
  {
   "cell_type": "code",
   "execution_count": 4,
   "metadata": {},
   "outputs": [],
   "source": [
    "train_dataset, test_dataset = load_data(\"Datasets/Animal Faces/\")\n",
    "\n",
    "batch_size = 32\n",
    "\n",
    "train_dataloader = data.DataLoader(train_dataset, batch_size=batch_size, shuffle=True)\n",
    "test_dataloader = data.DataLoader(test_dataset, batch_size=batch_size, shuffle=False)\n"
   ]
  },
  {
   "cell_type": "markdown",
   "metadata": {},
   "source": [
    "- Get the Logistic Regression model"
   ]
  },
  {
   "cell_type": "code",
   "execution_count": 5,
   "metadata": {},
   "outputs": [],
   "source": [
    "logistic_regression_classifier = LogisticRegression(random_state=42)\n"
   ]
  },
  {
   "cell_type": "markdown",
   "metadata": {},
   "source": [
    "- Extract the features"
   ]
  },
  {
   "cell_type": "code",
   "execution_count": 6,
   "metadata": {},
   "outputs": [],
   "source": [
    "for param in imagenet_model.parameters():\n",
    "    param.requires_grad = False\n",
    "\n",
    "imagenet_model.to(device)\n",
    "\n",
    "full_train_feature_map_set = None\n",
    "\n",
    "full_train_label_set = None\n",
    "\n",
    "full_test_feature_map_set = None\n",
    "\n",
    "full_test_label_set = None\n",
    "\n",
    "flatten_layer = Flatten()\n",
    "\n",
    "for data, label in train_dataloader:\n",
    "    data, label = data.to(device), label.to(device)\n",
    "\n",
    "    # Note: the desired output (i.e. output of last layer avgpool) is stored in a dictionary entry along with the rest, end dimensionality is 32x2048\n",
    "    feature_map_dict = imagenet_model(data)\n",
    "    flattened_feature_map = flatten_layer(feature_map_dict[\"avgpool\"])\n",
    "\n",
    "    if full_train_feature_map_set == None:\n",
    "        full_train_feature_map_set = flattened_feature_map\n",
    "\n",
    "        full_train_label_set = label\n",
    "    else:\n",
    "        full_train_feature_map_set = torch.vstack((full_train_feature_map_set, flattened_feature_map))\n",
    "        \n",
    "        full_train_label_set = torch.hstack((full_train_label_set, label))\n",
    "\n",
    "for data, label in test_dataloader:\n",
    "    data, label = data.to(device), label.to(device)\n",
    "\n",
    "    # Note: the desired output (i.e. output of last layer avgpool) is stored in a dictionary entry along with the rest, end dimensionality is 32x2048\n",
    "    feature_map_dict = imagenet_model(data)\n",
    "    flattened_feature_map = flatten_layer(feature_map_dict[\"avgpool\"])\n",
    "\n",
    "    if full_test_feature_map_set == None:\n",
    "        full_test_feature_map_set = flattened_feature_map\n",
    "\n",
    "        full_test_label_set = label\n",
    "    else:\n",
    "        full_test_feature_map_set = torch.vstack((full_test_feature_map_set, flattened_feature_map))\n",
    "        \n",
    "        full_test_label_set = torch.hstack((full_test_label_set, label))\n"
   ]
  },
  {
   "cell_type": "markdown",
   "metadata": {},
   "source": [
    "- Pass the features to the training loop for the classifier "
   ]
  },
  {
   "cell_type": "code",
   "execution_count": 7,
   "metadata": {},
   "outputs": [
    {
     "name": "stdout",
     "output_type": "stream",
     "text": [
      "Logistic Regression test accuracy: 0.99%\n"
     ]
    }
   ],
   "source": [
    "numpy_full_train_feature_map_set = full_train_feature_map_set.cpu().numpy()\n",
    "\n",
    "numpy_full_train_label_set = full_train_label_set.cpu().numpy()\n",
    "logistic_regression_classifier.fit(numpy_full_train_feature_map_set, numpy_full_train_label_set)\n",
    "\n",
    "numpy_full_test_feature_map_set = full_test_feature_map_set.cpu().numpy()\n",
    "regression_predictions = logistic_regression_classifier.predict(numpy_full_test_feature_map_set)\n",
    "\n",
    "numpy_full_test_label_set = full_test_label_set.cpu().numpy()\n",
    "print(f\"Logistic Regression test accuracy: {logistic_regression_classifier.score(numpy_full_test_feature_map_set, numpy_full_test_label_set):.2f}%\")\n"
   ]
  },
  {
   "cell_type": "markdown",
   "metadata": {},
   "source": [
    "- Plot the results"
   ]
  },
  {
   "cell_type": "code",
   "execution_count": 13,
   "metadata": {},
   "outputs": [
    {
     "name": "stdout",
     "output_type": "stream",
     "text": [
      "              precision    recall  f1-score   support\n",
      "\n",
      "         Cat       1.00      0.99      1.00       384\n",
      "         Dog       1.00      0.99      0.99       427\n",
      "        Wild       0.99      1.00      0.99       389\n",
      "\n",
      "    accuracy                           0.99      1200\n",
      "   macro avg       0.99      0.99      0.99      1200\n",
      "weighted avg       0.99      0.99      0.99      1200\n",
      "\n"
     ]
    }
   ],
   "source": [
    "label_names = [\"Cat\", \"Dog\", \"Wild\"]\n",
    "print(sklearn.metrics.classification_report(numpy_full_test_label_set, regression_predictions, target_names=label_names))\n"
   ]
  },
  {
   "cell_type": "code",
   "execution_count": 27,
   "metadata": {},
   "outputs": [
    {
     "data": {
      "image/png": "[encoded data removed]",
      "text/plain": [
       "<Figure size 640x480 with 2 Axes>"
      ]
     },
     "metadata": {},
     "output_type": "display_data"
    }
   ],
   "source": [
    "matrix = sklearn.metrics.ConfusionMatrixDisplay(sklearn.metrics.confusion_matrix(numpy_full_test_label_set, regression_predictions), display_labels=label_names)\n",
    "matrix.plot()\n",
    "\n",
    "plt.show()\n"
   ]
  },
  {
   "cell_type": "markdown",
   "metadata": {},
   "source": [
    "- Discussion"
   ]
  },
  {
   "cell_type": "markdown",
   "metadata": {},
   "source": [
    "- From the information shown in the classification report and the confusion matrix, the following observations can be made\n",
    "    - Overall, it seems that the ImageNet ResNet model is very good at extracting quality features to help the Logistic Regression model correctly classify the data\n",
    "    - The classifier produced 7 False Negative (Type I) errors and 7 False Positive (Type II) errors and the majority of those errors came from the \"Wild\" class\n",
    "    - The classifier tends to be very consistent thanks to the feature extractor in light of the balance of Type I & II errors"
   ]
  }
 ],
 "metadata": {
  "kernelspec": {
   "display_name": "Python 3",
   "language": "python",
   "name": "python3"
  },
  "language_info": {
   "codemirror_mode": {
    "name": "ipython",
    "version": 3
   },
   "file_extension": ".py",
   "mimetype": "text/x-python",
   "name": "python",
   "nbconvert_exporter": "python",
   "pygments_lexer": "ipython3",
   "version": "3.11.5"
  }
 },
 "nbformat": 4,
 "nbformat_minor": 2
}
